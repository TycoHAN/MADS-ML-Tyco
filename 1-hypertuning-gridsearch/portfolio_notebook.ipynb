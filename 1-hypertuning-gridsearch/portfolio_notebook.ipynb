{
 "cells": [
  {
   "cell_type": "markdown",
   "id": "0782558b",
   "metadata": {},
   "source": [
    "# De student is in staat om:"
   ]
  },
  {
   "cell_type": "markdown",
   "id": "22be7582",
   "metadata": {},
   "source": [
    "1.12 een dataclass maken."
   ]
  },
  {
   "cell_type": "code",
   "execution_count": 43,
   "id": "abfa74b9",
   "metadata": {},
   "outputs": [],
   "source": [
    "from dataclasses import dataclass\n",
    "\n",
    "@dataclass\n",
    "class Person:\n",
    "    name: str\n",
    "    age: int\n",
    "    weight: float\n",
    "\n",
    "    def hoe_heet_je(self):\n",
    "        print(f\"Mijn naam is {self.name}\")\n",
    "    \n",
    "    def hoe_oud_ben_je(self):\n",
    "        print(f\"Ik ben {self.age} jaar oud\")\n",
    "\n",
    "    def hoe_zwaar_ben_je(self):\n",
    "        print(f\"ik ben {self.weight} kg zwaar\")"
   ]
  },
  {
   "cell_type": "code",
   "execution_count": 44,
   "id": "f6ccfbbc",
   "metadata": {},
   "outputs": [],
   "source": [
    "tyco = Person(\"Tyco\", 30, 92.5)"
   ]
  },
  {
   "cell_type": "code",
   "execution_count": 47,
   "id": "54b910aa",
   "metadata": {},
   "outputs": [
    {
     "name": "stdout",
     "output_type": "stream",
     "text": [
      "Mijn naam is Tyco\n",
      "Ik ben 30 jaar oud\n",
      "ik ben 92.5 kg zwaar\n"
     ]
    }
   ],
   "source": [
    "tyco.hoe_heet_je()\n",
    "tyco.hoe_oud_ben_je()\n",
    "tyco.hoe_zwaar_ben_je()   "
   ]
  },
  {
   "cell_type": "markdown",
   "id": "5d78eddf",
   "metadata": {},
   "source": [
    "1.13 Een configureerbaar dense neural network te maken met pytorch."
   ]
  },
  {
   "cell_type": "code",
   "execution_count": 49,
   "id": "838e0717",
   "metadata": {},
   "outputs": [],
   "source": [
    "import torch\n",
    "import torch.nn as nn\n",
    "\n",
    "# in dit geval gebruik ik geen @dataclass omdat ik dan niet de flatten en linear_relu_stack kan initialiseren\n",
    "class DenseNeuralNetwork(nn.Module):\n",
    "    def __init__(self, num_classes, units1, units2, input_size):\n",
    "        super().__init__() # moet erbij zodat alles van de nn module wordt overgenomen\n",
    "        self.num_classes = num_classes\n",
    "        self.units1 = units1         \n",
    "        self.units2 = units2\n",
    "        self.input_size = input_size\n",
    "        self.flatten = nn.Flatten()\n",
    "\n",
    "        # ik kies hier voor een simpel model met 2 hidden layers\n",
    "        self.linear_relu_stack = nn.Sequential(\n",
    "            nn.Linear(self.input_size, self.units1),\n",
    "            nn.ReLU(),\n",
    "            nn.Linear(self.units1, self.units2),\n",
    "            nn.ReLU(),\n",
    "            nn.Linear(self.units2, self.num_classes)\n",
    "        )\n",
    "    \n",
    "    # forward maken we hier zodat we de volgorde van de bewerkingen kunnen bepalen, eerst flattenen zodat we de input in 1D krijgen en dus kunnen doorgeven aan de linear layers\n",
    "    def forward(self, x):\n",
    "        x = self.flatten(x)\n",
    "        logits = self.linear_relu_stack(x)\n",
    "        return logits"
   ]
  },
  {
   "cell_type": "code",
   "execution_count": 51,
   "id": "b18c7a1b",
   "metadata": {},
   "outputs": [
    {
     "data": {
      "text/plain": [
       "DenseNeuralNetwork(\n",
       "  (flatten): Flatten(start_dim=1, end_dim=-1)\n",
       "  (linear_relu_stack): Sequential(\n",
       "    (0): Linear(in_features=784, out_features=512, bias=True)\n",
       "    (1): ReLU()\n",
       "    (2): Linear(in_features=512, out_features=256, bias=True)\n",
       "    (3): ReLU()\n",
       "    (4): Linear(in_features=256, out_features=10, bias=True)\n",
       "  )\n",
       ")"
      ]
     },
     "execution_count": 51,
     "metadata": {},
     "output_type": "execute_result"
    }
   ],
   "source": [
    "model = DenseNeuralNetwork(num_classes=10, units1=512, units2=256, input_size=28*28)\n",
    "model"
   ]
  },
  {
   "cell_type": "markdown",
   "id": "1e578ab7",
   "metadata": {},
   "source": [
    "1.14 tensorboard gebruiken om zijn model te monitoren"
   ]
  },
  {
   "cell_type": "code",
   "execution_count": 53,
   "id": "4f78e9a5",
   "metadata": {},
   "outputs": [],
   "source": [
    "import torch\n",
    "from mltrainer import imagemodels, Trainer, TrainerSettings, ReportTypes, metrics\n",
    "loss_fn = torch.nn.CrossEntropyLoss()\n",
    "\n",
    "settings = TrainerSettings(\n",
    "    epochs=3,\n",
    "    metrics= [metrics.Accuracy()],\n",
    "    logdir=\"modellogs\",\n",
    "    train_steps= 50,\n",
    "    valid_steps= 50,\n",
    "    reporttypes=[ReportTypes.TENSORBOARD],\n",
    ")\n"
   ]
  },
  {
   "cell_type": "markdown",
   "id": "ca417bd3",
   "metadata": {},
   "source": [
    "1.15 toml files te gebruiken om zijn model te configureren"
   ]
  },
  {
   "cell_type": "code",
   "execution_count": null,
   "id": "de9205e6",
   "metadata": {},
   "outputs": [],
   "source": []
  }
 ],
 "metadata": {
  "kernelspec": {
   "display_name": "portfolio-example",
   "language": "python",
   "name": "python3"
  },
  "language_info": {
   "codemirror_mode": {
    "name": "ipython",
    "version": 3
   },
   "file_extension": ".py",
   "mimetype": "text/x-python",
   "name": "python",
   "nbconvert_exporter": "python",
   "pygments_lexer": "ipython3",
   "version": "3.12.11"
  }
 },
 "nbformat": 4,
 "nbformat_minor": 5
}
