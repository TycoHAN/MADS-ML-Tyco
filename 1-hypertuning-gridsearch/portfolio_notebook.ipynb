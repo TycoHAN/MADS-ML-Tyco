{
 "cells": [
  {
   "cell_type": "markdown",
   "id": "0782558b",
   "metadata": {},
   "source": [
    "# De student is in staat om:"
   ]
  },
  {
   "cell_type": "markdown",
   "id": "22be7582",
   "metadata": {},
   "source": [
    "1.12 een dataclass maken."
   ]
  },
  {
   "cell_type": "code",
   "execution_count": 43,
   "id": "abfa74b9",
   "metadata": {},
   "outputs": [],
   "source": [
    "from dataclasses import dataclass\n",
    "\n",
    "@dataclass\n",
    "class Person:\n",
    "    name: str\n",
    "    age: int\n",
    "    weight: float\n",
    "\n",
    "    def hoe_heet_je(self):\n",
    "        print(f\"Mijn naam is {self.name}\")\n",
    "    \n",
    "    def hoe_oud_ben_je(self):\n",
    "        print(f\"Ik ben {self.age} jaar oud\")\n",
    "\n",
    "    def hoe_zwaar_ben_je(self):\n",
    "        print(f\"ik ben {self.weight} kg zwaar\")"
   ]
  },
  {
   "cell_type": "code",
   "execution_count": 44,
   "id": "f6ccfbbc",
   "metadata": {},
   "outputs": [],
   "source": [
    "tyco = Person(\"Tyco\", 30, 92.5)"
   ]
  },
  {
   "cell_type": "code",
   "execution_count": 47,
   "id": "54b910aa",
   "metadata": {},
   "outputs": [
    {
     "name": "stdout",
     "output_type": "stream",
     "text": [
      "Mijn naam is Tyco\n",
      "Ik ben 30 jaar oud\n",
      "ik ben 92.5 kg zwaar\n"
     ]
    }
   ],
   "source": [
    "tyco.hoe_heet_je()\n",
    "tyco.hoe_oud_ben_je()\n",
    "tyco.hoe_zwaar_ben_je()   "
   ]
  },
  {
   "cell_type": "markdown",
   "id": "5d78eddf",
   "metadata": {},
   "source": [
    "1.13 Een configureerbaar dense neural network te maken met pytorch."
   ]
  },
  {
   "cell_type": "code",
   "execution_count": 81,
   "id": "838e0717",
   "metadata": {},
   "outputs": [],
   "source": [
    "import torch\n",
    "import torch.nn as nn\n",
    "\n",
    "# in dit geval gebruik ik geen @dataclass omdat ik dan niet de flatten en linear_relu_stack kan initialiseren\n",
    "class DenseNeuralNetwork(nn.Module):\n",
    "    def __init__(self, num_classes, units1, units2, input_size):\n",
    "        super().__init__() # moet erbij zodat alles van de nn module wordt overgenomen\n",
    "        self.num_classes = num_classes\n",
    "        self.units1 = units1         \n",
    "        self.units2 = units2\n",
    "        self.input_size = input_size\n",
    "        self.flatten = nn.Flatten()\n",
    "\n",
    "        # ik kies hier voor een simpel model met 2 hidden layers\n",
    "        self.linear_relu_stack = nn.Sequential(\n",
    "            nn.Linear(self.input_size, self.units1),\n",
    "            nn.ReLU(),\n",
    "            nn.Linear(self.units1, self.units2),\n",
    "            nn.ReLU(),\n",
    "            nn.Linear(self.units2, self.num_classes)\n",
    "        )\n",
    "    \n",
    "    # forward maken we hier zodat we de volgorde van de bewerkingen kunnen bepalen, eerst flattenen zodat we de input in 1D krijgen en dus kunnen doorgeven aan de linear layers\n",
    "    def forward(self, x):\n",
    "        x = self.flatten(x)\n",
    "        logits = self.linear_relu_stack(x)\n",
    "        return logits"
   ]
  },
  {
   "cell_type": "code",
   "execution_count": 25,
   "id": "b18c7a1b",
   "metadata": {},
   "outputs": [
    {
     "data": {
      "text/plain": [
       "DenseNeuralNetwork(\n",
       "  (flatten): Flatten(start_dim=1, end_dim=-1)\n",
       "  (linear_relu_stack): Sequential(\n",
       "    (0): Linear(in_features=784, out_features=512, bias=True)\n",
       "    (1): ReLU()\n",
       "    (2): Linear(in_features=512, out_features=256, bias=True)\n",
       "    (3): ReLU()\n",
       "    (4): Linear(in_features=256, out_features=10, bias=True)\n",
       "  )\n",
       ")"
      ]
     },
     "execution_count": 25,
     "metadata": {},
     "output_type": "execute_result"
    }
   ],
   "source": [
    "model = DenseNeuralNetwork(num_classes=10, units1=512, units2=256, input_size=28*28)\n",
    "model"
   ]
  },
  {
   "cell_type": "markdown",
   "id": "1e578ab7",
   "metadata": {},
   "source": [
    "1.14 tensorboard gebruiken om zijn model te monitoren"
   ]
  },
  {
   "cell_type": "code",
   "execution_count": 2,
   "id": "4f78e9a5",
   "metadata": {},
   "outputs": [],
   "source": [
    "import torch\n",
    "from mltrainer import imagemodels, Trainer, TrainerSettings, ReportTypes, metrics\n",
    "loss_fn = torch.nn.CrossEntropyLoss()\n",
    "\n",
    "# set trainingsettings\n",
    "settings = TrainerSettings(\n",
    "    epochs=3,\n",
    "    metrics= [metrics.Accuracy()],\n",
    "    logdir=\"modellogs\",\n",
    "    train_steps= 50,\n",
    "    valid_steps= 50,\n",
    "    reporttypes=[ReportTypes.TENSORBOARD],\n",
    ")"
   ]
  },
  {
   "cell_type": "code",
   "execution_count": 95,
   "id": "9e0b2a69",
   "metadata": {},
   "outputs": [
    {
     "name": "stderr",
     "output_type": "stream",
     "text": [
      "\u001b[32m2025-10-04 17:54:50.064\u001b[0m | \u001b[1mINFO    \u001b[0m | \u001b[36mmads_datasets.base\u001b[0m:\u001b[36mdownload_data\u001b[0m:\u001b[36m121\u001b[0m - \u001b[1mFolder already exists at C:\\Users\\tycoh\\.cache\\mads_datasets\\fashionmnist\u001b[0m\n",
      "\u001b[32m2025-10-04 17:54:50.071\u001b[0m | \u001b[1mINFO    \u001b[0m | \u001b[36mmads_datasets.base\u001b[0m:\u001b[36mdownload_data\u001b[0m:\u001b[36m124\u001b[0m - \u001b[1mFile already exists at C:\\Users\\tycoh\\.cache\\mads_datasets\\fashionmnist\\fashionmnist.pt\u001b[0m\n"
     ]
    }
   ],
   "source": [
    "# impport dataset and make data streamers\n",
    "from mads_datasets import DatasetFactoryProvider, DatasetType\n",
    "from mltrainer.preprocessors import BasePreprocessor\n",
    "batchsize = 64\n",
    "fashionfactory = DatasetFactoryProvider.create_factory(DatasetType.FASHION)\n",
    "preprocessor = BasePreprocessor()\n",
    "streamers = fashionfactory.create_datastreamer(batchsize=batchsize, preprocessor=preprocessor)\n",
    "train = streamers[\"train\"]\n",
    "valid = streamers[\"valid\"]\n",
    "trainstreamer = train.stream()\n",
    "validstreamer = valid.stream()"
   ]
  },
  {
   "cell_type": "code",
   "execution_count": 7,
   "id": "98126801",
   "metadata": {},
   "outputs": [
    {
     "name": "stderr",
     "output_type": "stream",
     "text": [
      "\u001b[32m2025-10-04 10:13:09.311\u001b[0m | \u001b[1mINFO    \u001b[0m | \u001b[36mmltrainer.trainer\u001b[0m:\u001b[36mdir_add_timestamp\u001b[0m:\u001b[36m24\u001b[0m - \u001b[1mLogging to modellogs\\20251004-101309\u001b[0m\n",
      "\u001b[32m2025-10-04 10:13:12.190\u001b[0m | \u001b[1mINFO    \u001b[0m | \u001b[36mmltrainer.trainer\u001b[0m:\u001b[36m__init__\u001b[0m:\u001b[36m68\u001b[0m - \u001b[1mFound earlystop_kwargs in settings.Set to None if you dont want earlystopping.\u001b[0m\n",
      "100%|\u001b[38;2;30;71;6m██████████\u001b[0m| 50/50 [00:00<00:00, 54.52it/s]\n",
      "\u001b[32m2025-10-04 10:13:13.715\u001b[0m | \u001b[1mINFO    \u001b[0m | \u001b[36mmltrainer.trainer\u001b[0m:\u001b[36mreport\u001b[0m:\u001b[36m209\u001b[0m - \u001b[1mEpoch 0 train 1.0761 test 0.6721 metric ['0.7566']\u001b[0m\n",
      "100%|\u001b[38;2;30;71;6m██████████\u001b[0m| 50/50 [00:00<00:00, 76.72it/s]\n",
      "\u001b[32m2025-10-04 10:13:14.630\u001b[0m | \u001b[1mINFO    \u001b[0m | \u001b[36mmltrainer.trainer\u001b[0m:\u001b[36mreport\u001b[0m:\u001b[36m209\u001b[0m - \u001b[1mEpoch 1 train 0.6716 test 0.6154 metric ['0.7691']\u001b[0m\n",
      "100%|\u001b[38;2;30;71;6m██████████\u001b[0m| 50/50 [00:00<00:00, 56.96it/s]\n",
      "\u001b[32m2025-10-04 10:13:15.761\u001b[0m | \u001b[1mINFO    \u001b[0m | \u001b[36mmltrainer.trainer\u001b[0m:\u001b[36mreport\u001b[0m:\u001b[36m209\u001b[0m - \u001b[1mEpoch 2 train 0.5728 test 0.5567 metric ['0.8025']\u001b[0m\n",
      "100%|\u001b[38;2;30;71;6m██████████\u001b[0m| 3/3 [00:03<00:00,  1.07s/it]\n"
     ]
    }
   ],
   "source": [
    "# make model trainer\n",
    "import torch.optim as optim\n",
    "\n",
    "trainer = Trainer(\n",
    "    model=model,\n",
    "    settings=settings,\n",
    "    loss_fn=loss_fn,\n",
    "    optimizer=optim.Adam,\n",
    "    traindataloader=trainstreamer,\n",
    "    validdataloader=validstreamer,\n",
    "    scheduler=optim.lr_scheduler.ReduceLROnPlateau\n",
    ")\n",
    "trainer.loop()"
   ]
  },
  {
   "cell_type": "code",
   "execution_count": null,
   "id": "9c0d1c9d",
   "metadata": {},
   "outputs": [],
   "source": [
    "# runing tensorboard in terminal with: tensorboard --logdir modellogs"
   ]
  },
  {
   "cell_type": "markdown",
   "id": "ca417bd3",
   "metadata": {},
   "source": [
    "1.15 toml files te gebruiken om zijn model te configureren"
   ]
  },
  {
   "cell_type": "code",
   "execution_count": 12,
   "id": "3becbc1b",
   "metadata": {},
   "outputs": [],
   "source": [
    "from tomlserializer import TOMLSerializer\n",
    "\n",
    "tomlserializer = TOMLSerializer()\n",
    "tomlserializer.save(settings, \"settings.toml\")\n",
    "tomlserializer.save(model, \"model.toml\")"
   ]
  },
  {
   "cell_type": "code",
   "execution_count": 9,
   "id": "595dbd6b",
   "metadata": {},
   "outputs": [],
   "source": [
    "# set trainingsettings met toml file\n",
    "settings = TrainerSettings(\n",
    "    epochs=3,\n",
    "    metrics= [metrics.Accuracy()],\n",
    "    logdir=\"modellogs\",\n",
    "    train_steps= 50,\n",
    "    valid_steps= 50,\n",
    "    reporttypes=[ReportTypes.TENSORBOARD, ReportTypes.TOML],\n",
    ")"
   ]
  },
  {
   "cell_type": "code",
   "execution_count": 10,
   "id": "0d31c022",
   "metadata": {},
   "outputs": [
    {
     "name": "stderr",
     "output_type": "stream",
     "text": [
      "\u001b[32m2025-10-04 10:35:36.666\u001b[0m | \u001b[1mINFO    \u001b[0m | \u001b[36mmltrainer.trainer\u001b[0m:\u001b[36mdir_add_timestamp\u001b[0m:\u001b[36m24\u001b[0m - \u001b[1mLogging to modellogs\\20251004-103536\u001b[0m\n",
      "\u001b[32m2025-10-04 10:35:36.668\u001b[0m | \u001b[1mINFO    \u001b[0m | \u001b[36mmltrainer.trainer\u001b[0m:\u001b[36m__init__\u001b[0m:\u001b[36m68\u001b[0m - \u001b[1mFound earlystop_kwargs in settings.Set to None if you dont want earlystopping.\u001b[0m\n",
      "100%|\u001b[38;2;30;71;6m██████████\u001b[0m| 50/50 [00:00<00:00, 101.35it/s]\n",
      "\u001b[32m2025-10-04 10:35:37.359\u001b[0m | \u001b[1mINFO    \u001b[0m | \u001b[36mmltrainer.trainer\u001b[0m:\u001b[36mreport\u001b[0m:\u001b[36m209\u001b[0m - \u001b[1mEpoch 0 train 0.5293 test 0.4987 metric ['0.8181']\u001b[0m\n",
      "100%|\u001b[38;2;30;71;6m██████████\u001b[0m| 50/50 [00:00<00:00, 82.74it/s]\n",
      "\u001b[32m2025-10-04 10:35:38.178\u001b[0m | \u001b[1mINFO    \u001b[0m | \u001b[36mmltrainer.trainer\u001b[0m:\u001b[36mreport\u001b[0m:\u001b[36m209\u001b[0m - \u001b[1mEpoch 1 train 0.4842 test 0.5531 metric ['0.7975']\u001b[0m\n",
      "\u001b[32m2025-10-04 10:35:38.178\u001b[0m | \u001b[1mINFO    \u001b[0m | \u001b[36mmltrainer.trainer\u001b[0m:\u001b[36m__call__\u001b[0m:\u001b[36m252\u001b[0m - \u001b[1mbest loss: 0.4987, current loss 0.5531.Counter 1/10.\u001b[0m\n",
      "100%|\u001b[38;2;30;71;6m██████████\u001b[0m| 50/50 [00:00<00:00, 86.58it/s]\n",
      "\u001b[32m2025-10-04 10:35:38.947\u001b[0m | \u001b[1mINFO    \u001b[0m | \u001b[36mmltrainer.trainer\u001b[0m:\u001b[36mreport\u001b[0m:\u001b[36m209\u001b[0m - \u001b[1mEpoch 2 train 0.4963 test 0.5122 metric ['0.8144']\u001b[0m\n",
      "\u001b[32m2025-10-04 10:35:38.947\u001b[0m | \u001b[1mINFO    \u001b[0m | \u001b[36mmltrainer.trainer\u001b[0m:\u001b[36m__call__\u001b[0m:\u001b[36m252\u001b[0m - \u001b[1mbest loss: 0.4987, current loss 0.5122.Counter 2/10.\u001b[0m\n",
      "100%|\u001b[38;2;30;71;6m██████████\u001b[0m| 3/3 [00:02<00:00,  1.32it/s]\n"
     ]
    }
   ],
   "source": [
    "trainer = Trainer(\n",
    "    model=model,\n",
    "    settings=settings,\n",
    "    loss_fn=loss_fn,\n",
    "    optimizer=optim.Adam,\n",
    "    traindataloader=trainstreamer,\n",
    "    validdataloader=validstreamer,\n",
    "    scheduler=optim.lr_scheduler.ReduceLROnPlateau\n",
    ")\n",
    "trainer.loop()"
   ]
  },
  {
   "cell_type": "markdown",
   "id": "5a03fb00",
   "metadata": {},
   "source": [
    "# Experiment"
   ]
  },
  {
   "cell_type": "markdown",
   "id": "0e61820b",
   "metadata": {},
   "source": [
    "- change the number of epochs, eg to 5 or 10.\n",
    "\n",
    "- Hypothesis: A dense neural network will perform better on the fashion dataset with more epochs"
   ]
  },
  {
   "cell_type": "code",
   "execution_count": 37,
   "id": "915da976",
   "metadata": {},
   "outputs": [
    {
     "name": "stderr",
     "output_type": "stream",
     "text": [
      "\u001b[32m2025-10-04 14:57:34.172\u001b[0m | \u001b[1mINFO    \u001b[0m | \u001b[36mmltrainer.trainer\u001b[0m:\u001b[36mdir_add_timestamp\u001b[0m:\u001b[36m24\u001b[0m - \u001b[1mLogging to modellogs\\20251004-145734\u001b[0m\n",
      "\u001b[32m2025-10-04 14:57:34.178\u001b[0m | \u001b[1mINFO    \u001b[0m | \u001b[36mmltrainer.trainer\u001b[0m:\u001b[36m__init__\u001b[0m:\u001b[36m68\u001b[0m - \u001b[1mFound earlystop_kwargs in settings.Set to None if you dont want earlystopping.\u001b[0m\n",
      "100%|\u001b[38;2;30;71;6m██████████\u001b[0m| 50/50 [00:00<00:00, 77.24it/s]\n",
      "\u001b[32m2025-10-04 14:57:35.038\u001b[0m | \u001b[1mINFO    \u001b[0m | \u001b[36mmltrainer.trainer\u001b[0m:\u001b[36mreport\u001b[0m:\u001b[36m209\u001b[0m - \u001b[1mEpoch 0 train 1.0902 test 0.7664 metric ['0.7291']\u001b[0m\n",
      "100%|\u001b[38;2;30;71;6m██████████\u001b[0m| 50/50 [00:00<00:00, 70.43it/s]\n",
      "\u001b[32m2025-10-04 14:57:35.930\u001b[0m | \u001b[1mINFO    \u001b[0m | \u001b[36mmltrainer.trainer\u001b[0m:\u001b[36mreport\u001b[0m:\u001b[36m209\u001b[0m - \u001b[1mEpoch 1 train 0.6781 test 0.6689 metric ['0.7772']\u001b[0m\n",
      "100%|\u001b[38;2;30;71;6m██████████\u001b[0m| 50/50 [00:00<00:00, 83.03it/s]\n",
      "\u001b[32m2025-10-04 14:57:36.746\u001b[0m | \u001b[1mINFO    \u001b[0m | \u001b[36mmltrainer.trainer\u001b[0m:\u001b[36mreport\u001b[0m:\u001b[36m209\u001b[0m - \u001b[1mEpoch 2 train 0.6057 test 0.5605 metric ['0.8075']\u001b[0m\n",
      "100%|\u001b[38;2;30;71;6m██████████\u001b[0m| 50/50 [00:00<00:00, 91.87it/s]\n",
      "\u001b[32m2025-10-04 14:57:37.556\u001b[0m | \u001b[1mINFO    \u001b[0m | \u001b[36mmltrainer.trainer\u001b[0m:\u001b[36mreport\u001b[0m:\u001b[36m209\u001b[0m - \u001b[1mEpoch 3 train 0.5464 test 0.5328 metric ['0.8022']\u001b[0m\n",
      "100%|\u001b[38;2;30;71;6m██████████\u001b[0m| 50/50 [00:00<00:00, 63.74it/s]\n",
      "\u001b[32m2025-10-04 14:57:38.550\u001b[0m | \u001b[1mINFO    \u001b[0m | \u001b[36mmltrainer.trainer\u001b[0m:\u001b[36mreport\u001b[0m:\u001b[36m209\u001b[0m - \u001b[1mEpoch 4 train 0.5087 test 0.5673 metric ['0.7981']\u001b[0m\n",
      "\u001b[32m2025-10-04 14:57:38.550\u001b[0m | \u001b[1mINFO    \u001b[0m | \u001b[36mmltrainer.trainer\u001b[0m:\u001b[36m__call__\u001b[0m:\u001b[36m252\u001b[0m - \u001b[1mbest loss: 0.5328, current loss 0.5673.Counter 1/10.\u001b[0m\n",
      "100%|\u001b[38;2;30;71;6m██████████\u001b[0m| 50/50 [00:00<00:00, 71.65it/s]\n",
      "\u001b[32m2025-10-04 14:57:39.505\u001b[0m | \u001b[1mINFO    \u001b[0m | \u001b[36mmltrainer.trainer\u001b[0m:\u001b[36mreport\u001b[0m:\u001b[36m209\u001b[0m - \u001b[1mEpoch 5 train 0.4558 test 0.4892 metric ['0.8200']\u001b[0m\n",
      "100%|\u001b[38;2;30;71;6m██████████\u001b[0m| 50/50 [00:00<00:00, 68.60it/s]\n",
      "\u001b[32m2025-10-04 14:57:40.462\u001b[0m | \u001b[1mINFO    \u001b[0m | \u001b[36mmltrainer.trainer\u001b[0m:\u001b[36mreport\u001b[0m:\u001b[36m209\u001b[0m - \u001b[1mEpoch 6 train 0.4413 test 0.4889 metric ['0.8200']\u001b[0m\n",
      "100%|\u001b[38;2;30;71;6m██████████\u001b[0m| 50/50 [00:00<00:00, 64.05it/s]\n",
      "\u001b[32m2025-10-04 14:57:41.483\u001b[0m | \u001b[1mINFO    \u001b[0m | \u001b[36mmltrainer.trainer\u001b[0m:\u001b[36mreport\u001b[0m:\u001b[36m209\u001b[0m - \u001b[1mEpoch 7 train 0.4598 test 0.4524 metric ['0.8353']\u001b[0m\n",
      "100%|\u001b[38;2;30;71;6m██████████\u001b[0m| 50/50 [00:00<00:00, 57.01it/s]\n",
      "\u001b[32m2025-10-04 14:57:42.565\u001b[0m | \u001b[1mINFO    \u001b[0m | \u001b[36mmltrainer.trainer\u001b[0m:\u001b[36mreport\u001b[0m:\u001b[36m209\u001b[0m - \u001b[1mEpoch 8 train 0.4404 test 0.4525 metric ['0.8347']\u001b[0m\n",
      "\u001b[32m2025-10-04 14:57:42.565\u001b[0m | \u001b[1mINFO    \u001b[0m | \u001b[36mmltrainer.trainer\u001b[0m:\u001b[36m__call__\u001b[0m:\u001b[36m252\u001b[0m - \u001b[1mbest loss: 0.4524, current loss 0.4525.Counter 1/10.\u001b[0m\n",
      "100%|\u001b[38;2;30;71;6m██████████\u001b[0m| 50/50 [00:00<00:00, 68.79it/s]\n",
      "\u001b[32m2025-10-04 14:57:43.514\u001b[0m | \u001b[1mINFO    \u001b[0m | \u001b[36mmltrainer.trainer\u001b[0m:\u001b[36mreport\u001b[0m:\u001b[36m209\u001b[0m - \u001b[1mEpoch 9 train 0.4392 test 0.4871 metric ['0.8263']\u001b[0m\n",
      "\u001b[32m2025-10-04 14:57:43.514\u001b[0m | \u001b[1mINFO    \u001b[0m | \u001b[36mmltrainer.trainer\u001b[0m:\u001b[36m__call__\u001b[0m:\u001b[36m252\u001b[0m - \u001b[1mbest loss: 0.4524, current loss 0.4871.Counter 2/10.\u001b[0m\n",
      "100%|\u001b[38;2;30;71;6m██████████\u001b[0m| 50/50 [00:00<00:00, 68.31it/s]\n",
      "\u001b[32m2025-10-04 14:57:44.444\u001b[0m | \u001b[1mINFO    \u001b[0m | \u001b[36mmltrainer.trainer\u001b[0m:\u001b[36mreport\u001b[0m:\u001b[36m209\u001b[0m - \u001b[1mEpoch 10 train 0.4119 test 0.4395 metric ['0.8462']\u001b[0m\n",
      "100%|\u001b[38;2;30;71;6m██████████\u001b[0m| 50/50 [00:00<00:00, 62.49it/s]\n",
      "\u001b[32m2025-10-04 14:57:45.483\u001b[0m | \u001b[1mINFO    \u001b[0m | \u001b[36mmltrainer.trainer\u001b[0m:\u001b[36mreport\u001b[0m:\u001b[36m209\u001b[0m - \u001b[1mEpoch 11 train 0.4059 test 0.4341 metric ['0.8462']\u001b[0m\n",
      "100%|\u001b[38;2;30;71;6m██████████\u001b[0m| 50/50 [00:01<00:00, 49.20it/s]\n",
      "\u001b[32m2025-10-04 14:57:46.797\u001b[0m | \u001b[1mINFO    \u001b[0m | \u001b[36mmltrainer.trainer\u001b[0m:\u001b[36mreport\u001b[0m:\u001b[36m209\u001b[0m - \u001b[1mEpoch 12 train 0.3965 test 0.4589 metric ['0.8384']\u001b[0m\n",
      "\u001b[32m2025-10-04 14:57:46.797\u001b[0m | \u001b[1mINFO    \u001b[0m | \u001b[36mmltrainer.trainer\u001b[0m:\u001b[36m__call__\u001b[0m:\u001b[36m252\u001b[0m - \u001b[1mbest loss: 0.4341, current loss 0.4589.Counter 1/10.\u001b[0m\n",
      "100%|\u001b[38;2;30;71;6m██████████\u001b[0m| 50/50 [00:00<00:00, 51.68it/s]\n",
      "\u001b[32m2025-10-04 14:57:47.980\u001b[0m | \u001b[1mINFO    \u001b[0m | \u001b[36mmltrainer.trainer\u001b[0m:\u001b[36mreport\u001b[0m:\u001b[36m209\u001b[0m - \u001b[1mEpoch 13 train 0.4361 test 0.4310 metric ['0.8419']\u001b[0m\n",
      "100%|\u001b[38;2;30;71;6m██████████\u001b[0m| 50/50 [00:00<00:00, 51.60it/s]\n",
      "\u001b[32m2025-10-04 14:57:49.230\u001b[0m | \u001b[1mINFO    \u001b[0m | \u001b[36mmltrainer.trainer\u001b[0m:\u001b[36mreport\u001b[0m:\u001b[36m209\u001b[0m - \u001b[1mEpoch 14 train 0.4399 test 0.4283 metric ['0.8462']\u001b[0m\n",
      "100%|\u001b[38;2;30;71;6m██████████\u001b[0m| 50/50 [00:00<00:00, 56.29it/s]\n",
      "\u001b[32m2025-10-04 14:57:50.363\u001b[0m | \u001b[1mINFO    \u001b[0m | \u001b[36mmltrainer.trainer\u001b[0m:\u001b[36mreport\u001b[0m:\u001b[36m209\u001b[0m - \u001b[1mEpoch 15 train 0.4275 test 0.4512 metric ['0.8275']\u001b[0m\n",
      "\u001b[32m2025-10-04 14:57:50.366\u001b[0m | \u001b[1mINFO    \u001b[0m | \u001b[36mmltrainer.trainer\u001b[0m:\u001b[36m__call__\u001b[0m:\u001b[36m252\u001b[0m - \u001b[1mbest loss: 0.4283, current loss 0.4512.Counter 1/10.\u001b[0m\n",
      "100%|\u001b[38;2;30;71;6m██████████\u001b[0m| 16/16 [00:16<00:00,  1.01s/it]\n"
     ]
    }
   ],
   "source": [
    "import torch\n",
    "import torch.nn as nn\n",
    "\n",
    "# in dit geval gebruik ik geen @dataclass omdat ik dan niet de flatten en linear_relu_stack kan initialiseren\n",
    "class DenseNeuralNetwork(nn.Module):\n",
    "    def __init__(self, num_classes, units1, units2, input_size):\n",
    "        super().__init__() # moet erbij zodat alles van de nn module wordt overgenomen\n",
    "        self.num_classes = num_classes\n",
    "        self.units1 = units1         \n",
    "        self.units2 = units2\n",
    "        self.input_size = input_size\n",
    "        self.flatten = nn.Flatten()\n",
    "\n",
    "        # ik kies hier voor een simpel model met 2 hidden layers\n",
    "        self.linear_relu_stack = nn.Sequential(\n",
    "            nn.Linear(self.input_size, self.units1),\n",
    "            nn.ReLU(),\n",
    "            nn.Linear(self.units1, self.units2),\n",
    "            nn.ReLU(),\n",
    "            nn.Linear(self.units2, self.num_classes)\n",
    "        )\n",
    "    \n",
    "    # forward maken we hier zodat we de volgorde van de bewerkingen kunnen bepalen, eerst flattenen zodat we de input in 1D krijgen en dus kunnen doorgeven aan de linear layers\n",
    "    def forward(self, x):\n",
    "        x = self.flatten(x)\n",
    "        logits = self.linear_relu_stack(x)\n",
    "        return logits\n",
    "model = DenseNeuralNetwork(num_classes=10, units1=512, units2=256, input_size=28*28)\n",
    "\n",
    "settings = TrainerSettings(\n",
    "    epochs=16,\n",
    "    metrics= [metrics.Accuracy()],\n",
    "    logdir=\"modellogs\",\n",
    "    train_steps= 50,\n",
    "    valid_steps= 50,\n",
    "    reporttypes=[ReportTypes.TENSORBOARD, ReportTypes.TOML],\n",
    ")\n",
    "\n",
    "trainer = Trainer(\n",
    "    model=model,\n",
    "    settings=settings,\n",
    "    loss_fn=loss_fn,\n",
    "    optimizer=optim.Adam,\n",
    "    traindataloader=trainstreamer,\n",
    "    validdataloader=validstreamer,\n",
    "    scheduler=optim.lr_scheduler.ReduceLROnPlateau\n",
    ")\n",
    "trainer.loop()"
   ]
  },
  {
   "cell_type": "markdown",
   "id": "f3847fe7",
   "metadata": {},
   "source": [
    "Result: epochs 1 accuracy 0.73 training time 0.7s, epochs 2 the accuracy is 0.77 and training time 1.7s, with epoch 4 the accuracy is 0.79 and training time 3.1s, epoch 8 the accuracy is 0.83 training time 7.2s, epoch 16 accuracy 0.84 training time 16.2"
   ]
  },
  {
   "cell_type": "code",
   "execution_count": null,
   "id": "4a8b62dc",
   "metadata": {},
   "outputs": [
    {
     "data": {
      "image/png": "[encoded data removed]",
      "text/plain": [
       "<Figure size 640x480 with 2 Axes>"
      ]
     },
     "metadata": {},
     "output_type": "display_data"
    }
   ],
   "source": [
    "import matplotlib.pyplot as plt\n",
    "\n",
    "# Data\n",
    "epochs = [1, 2, 4, 8, 16]\n",
    "accuracy = [0.73, 0.77, 0.79, 0.83, 0.84]\n",
    "training_time = [0.7, 1.7, 3.1, 7.2, 16.2]  # in seconds\n",
    "\n",
    "# Plot setup\n",
    "fig, ax1 = plt.subplots()\n",
    "\n",
    "# Accuracy plot\n",
    "ax1.set_xlabel('Epochs')\n",
    "ax1.set_ylabel('Accuracy', color='tab:blue')\n",
    "ax1.plot(epochs, accuracy, marker='o', color='tab:blue', label='Accuracy')\n",
    "ax1.tick_params(axis='y', labelcolor='tab:blue')\n",
    "\n",
    "# Training time plot (second y-axis)\n",
    "ax2 = ax1.twinx()\n",
    "ax2.set_ylabel('Training Time (sec)', color='tab:red')\n",
    "ax2.plot(epochs, training_time, marker='x', color='tab:red', label='Training Time')\n",
    "ax2.tick_params(axis='y', labelcolor='tab:red')\n",
    "\n",
    "# Final touches\n",
    "plt.title('Epochs vs Accuracy and Training Time')\n",
    "fig.tight_layout()"
   ]
  },
  {
   "cell_type": "markdown",
   "id": "1d1621dc",
   "metadata": {},
   "source": [
    "Conclusion: We can see that the first jump is the biggest relative improvement in performance, from 1 to 2 epochs. We can see that from 8 to 16 epochs the slope shows a lower relative improvement. The training time looks to evolve linear. Therefore our hypothesis is true, but it also shows there is a tradeoff between how much time you need to train vs the extra amount of performance that is achieved."
   ]
  },
  {
   "cell_type": "markdown",
   "id": "e98acf26",
   "metadata": {},
   "source": [
    "\n",
    "- changing the amount of units1 and units2 to values between 16 and 1024. Use factors of 2 to easily scan the ranges: 16, 32, 64, etc.\n",
    "- Hypothesis: Adding more units will improve the model, but there is a turning point where it will start overfitting."
   ]
  },
  {
   "cell_type": "code",
   "execution_count": 86,
   "id": "e35f8cb9",
   "metadata": {},
   "outputs": [
    {
     "name": "stderr",
     "output_type": "stream",
     "text": [
      "\u001b[32m2025-10-04 17:07:30.850\u001b[0m | \u001b[1mINFO    \u001b[0m | \u001b[36mmltrainer.trainer\u001b[0m:\u001b[36mdir_add_timestamp\u001b[0m:\u001b[36m24\u001b[0m - \u001b[1mLogging to modellogs\\20251004-170730\u001b[0m\n",
      "\u001b[32m2025-10-04 17:07:30.853\u001b[0m | \u001b[1mINFO    \u001b[0m | \u001b[36mmltrainer.trainer\u001b[0m:\u001b[36m__init__\u001b[0m:\u001b[36m68\u001b[0m - \u001b[1mFound earlystop_kwargs in settings.Set to None if you dont want earlystopping.\u001b[0m\n",
      "100%|\u001b[38;2;30;71;6m██████████\u001b[0m| 50/50 [00:00<00:00, 115.29it/s]\n",
      "\u001b[32m2025-10-04 17:07:31.466\u001b[0m | \u001b[1mINFO    \u001b[0m | \u001b[36mmltrainer.trainer\u001b[0m:\u001b[36mreport\u001b[0m:\u001b[36m209\u001b[0m - \u001b[1mEpoch 0 train 1.3923 test 0.8983 metric ['0.6800']\u001b[0m\n",
      "100%|\u001b[38;2;30;71;6m██████████\u001b[0m| 50/50 [00:00<00:00, 131.60it/s]\n",
      "\u001b[32m2025-10-04 17:07:32.016\u001b[0m | \u001b[1mINFO    \u001b[0m | \u001b[36mmltrainer.trainer\u001b[0m:\u001b[36mreport\u001b[0m:\u001b[36m209\u001b[0m - \u001b[1mEpoch 1 train 0.7607 test 0.6682 metric ['0.7681']\u001b[0m\n",
      "100%|\u001b[38;2;30;71;6m██████████\u001b[0m| 50/50 [00:00<00:00, 111.74it/s]\n",
      "\u001b[32m2025-10-04 17:07:32.633\u001b[0m | \u001b[1mINFO    \u001b[0m | \u001b[36mmltrainer.trainer\u001b[0m:\u001b[36mreport\u001b[0m:\u001b[36m209\u001b[0m - \u001b[1mEpoch 2 train 0.6686 test 0.6438 metric ['0.7700']\u001b[0m\n",
      "100%|\u001b[38;2;30;71;6m██████████\u001b[0m| 50/50 [00:00<00:00, 100.29it/s]\n",
      "\u001b[32m2025-10-04 17:07:33.316\u001b[0m | \u001b[1mINFO    \u001b[0m | \u001b[36mmltrainer.trainer\u001b[0m:\u001b[36mreport\u001b[0m:\u001b[36m209\u001b[0m - \u001b[1mEpoch 3 train 0.5846 test 0.6428 metric ['0.7603']\u001b[0m\n",
      "100%|\u001b[38;2;30;71;6m██████████\u001b[0m| 50/50 [00:00<00:00, 116.83it/s]\n",
      "\u001b[32m2025-10-04 17:07:33.926\u001b[0m | \u001b[1mINFO    \u001b[0m | \u001b[36mmltrainer.trainer\u001b[0m:\u001b[36mreport\u001b[0m:\u001b[36m209\u001b[0m - \u001b[1mEpoch 4 train 0.5332 test 0.5514 metric ['0.7934']\u001b[0m\n",
      "100%|\u001b[38;2;30;71;6m██████████\u001b[0m| 5/5 [00:03<00:00,  1.63it/s]\n"
     ]
    }
   ],
   "source": [
    "model = DenseNeuralNetwork(num_classes=10, units1=128, units2=128, input_size=28*28)\n",
    "\n",
    "settings = TrainerSettings(\n",
    "    epochs=5,\n",
    "    metrics= [metrics.Accuracy()],\n",
    "    logdir=\"modellogs\",\n",
    "    train_steps= 50,\n",
    "    valid_steps= 50,\n",
    "    reporttypes=[ReportTypes.TENSORBOARD, ReportTypes.TOML],\n",
    ")\n",
    "\n",
    "trainer = Trainer(\n",
    "    model=model,\n",
    "    settings=settings,\n",
    "    loss_fn=loss_fn,\n",
    "    optimizer=optim.Adam,\n",
    "    traindataloader=trainstreamer,\n",
    "    validdataloader=validstreamer,\n",
    "    scheduler=optim.lr_scheduler.ReduceLROnPlateau\n",
    ")\n",
    "trainer.loop()"
   ]
  },
  {
   "cell_type": "markdown",
   "id": "a7c5bb0e",
   "metadata": {},
   "source": [
    "Results: 16 units/accuracy 0.66/1.14train/0.97 test, 32 units/accuracy 0.70/1.00train/0.86 test, 64 units/accuracy 0.72/0.84train/0.75 test, 128 units/accuracy 0.72/0.72train/0.71 test, 256 units/accuracy 0.76/0.70train/0.67 test, 512 units/accuracy 0.76/0.65train/0.64test, 1024 units/accuracy 0.79/0.58train/0.56test   "
   ]
  },
  {
   "cell_type": "code",
   "execution_count": null,
   "id": "e5cdad51",
   "metadata": {},
   "outputs": [
    {
     "data": {
      "image/png": "[encoded data removed]",
      "text/plain": [
       "<Figure size 640x480 with 2 Axes>"
      ]
     },
     "metadata": {},
     "output_type": "display_data"
    }
   ],
   "source": [
    "# Data\n",
    "units = [16, 32, 64, 128, 256, 512, 1024, 8192]\n",
    "accuracy = [0.66, 0.70, 0.72, 0.72, 0.76, 0.76, 0.79, 0.80]\n",
    "train = [1.14, 1.0, 0.84, 0.72, 0.70, 0.65, 0.58, 0.60]  \n",
    "test = [0.97, 0.86, 0.75, 0.71, 0.67, 0.64, 0.56, 0.55]\n",
    "\n",
    "import matplotlib.pyplot as plt\n",
    "\n",
    "fig, ax1 = plt.subplots()\n",
    "\n",
    "ax1.set_xlabel('Units')\n",
    "ax1.set_ylabel('Accuracy', color='tab:blue')\n",
    "ax1.plot(units, accuracy, marker='o', color='tab:blue', label='Accuracy')\n",
    "ax1.tick_params(axis='y', labelcolor='tab:blue')\n",
    "\n",
    "ax2 = ax1.twinx()\n",
    "ax2.set_ylabel('Loss', color='tab:red')\n",
    "ax2.plot(units, train, marker='x', color='tab:red', label='Train Loss')\n",
    "ax2.plot(units, test, marker='s', color='tab:green', label='Test Loss')\n",
    "ax2.tick_params(axis='y', labelcolor='tab:red')\n",
    "\n",
    "fig.legend(loc='upper right', bbox_to_anchor=(1, 1), bbox_transform=ax1.transAxes)\n",
    "plt.title('Units vs Accuracy and Loss')\n",
    "fig.tight_layout()\n",
    "plt.show()"
   ]
  },
  {
   "cell_type": "markdown",
   "id": "8927de7e",
   "metadata": {},
   "source": [
    "Conclusion: The hypothesis is true for the accuracy, but false for the overfitting at least up until 8192 units."
   ]
  },
  {
   "cell_type": "markdown",
   "id": "de871e50",
   "metadata": {},
   "source": [
    "- changing the learningrate to values between 1e-2 and 1e-5\n",
    "- Hypothesis: increasing the learning rate will improve the accuracy of the model"
   ]
  },
  {
   "cell_type": "code",
   "execution_count": null,
   "id": "068bd9ba",
   "metadata": {},
   "outputs": [
    {
     "name": "stderr",
     "output_type": "stream",
     "text": [
      "\u001b[32m2025-10-04 16:44:54.089\u001b[0m | \u001b[1mINFO    \u001b[0m | \u001b[36mmltrainer.trainer\u001b[0m:\u001b[36mdir_add_timestamp\u001b[0m:\u001b[36m24\u001b[0m - \u001b[1mLogging to modellogs\\20251004-164454\u001b[0m\n"
     ]
    },
    {
     "ename": "TypeError",
     "evalue": "'Adam' object is not callable",
     "output_type": "error",
     "traceback": [
      "\u001b[31m---------------------------------------------------------------------------\u001b[39m",
      "\u001b[31mTypeError\u001b[39m                                 Traceback (most recent call last)",
      "\u001b[36mCell\u001b[39m\u001b[36m \u001b[39m\u001b[32mIn[61]\u001b[39m\u001b[32m, line 18\u001b[39m\n\u001b[32m     15\u001b[39m \u001b[38;5;66;03m# Create the scheduler instance, passing the optimizer\u001b[39;00m\n\u001b[32m     16\u001b[39m my_scheduler = torch.optim.lr_scheduler.ReduceLROnPlateau(my_optimizer)\n\u001b[32m---> \u001b[39m\u001b[32m18\u001b[39m trainer = \u001b[43mTrainer\u001b[49m\u001b[43m(\u001b[49m\n\u001b[32m     19\u001b[39m \u001b[43m    \u001b[49m\u001b[43mmodel\u001b[49m\u001b[43m=\u001b[49m\u001b[43mmodel\u001b[49m\u001b[43m,\u001b[49m\n\u001b[32m     20\u001b[39m \u001b[43m    \u001b[49m\u001b[43msettings\u001b[49m\u001b[43m=\u001b[49m\u001b[43msettings\u001b[49m\u001b[43m,\u001b[49m\n\u001b[32m     21\u001b[39m \u001b[43m    \u001b[49m\u001b[43mloss_fn\u001b[49m\u001b[43m=\u001b[49m\u001b[43mloss_fn\u001b[49m\u001b[43m,\u001b[49m\n\u001b[32m     22\u001b[39m \u001b[43m    \u001b[49m\u001b[43moptimizer\u001b[49m\u001b[43m=\u001b[49m\u001b[43mmy_optimizer\u001b[49m\u001b[43m,\u001b[49m\u001b[43m \u001b[49m\u001b[38;5;66;43;03m# Pass the instantiated optimizer\u001b[39;49;00m\n\u001b[32m     23\u001b[39m \u001b[43m    \u001b[49m\u001b[43mtraindataloader\u001b[49m\u001b[43m=\u001b[49m\u001b[43mtrainstreamer\u001b[49m\u001b[43m,\u001b[49m\n\u001b[32m     24\u001b[39m \u001b[43m    \u001b[49m\u001b[43mvaliddataloader\u001b[49m\u001b[43m=\u001b[49m\u001b[43mvalidstreamer\u001b[49m\u001b[43m,\u001b[49m\n\u001b[32m     25\u001b[39m \u001b[43m    \u001b[49m\u001b[43mscheduler\u001b[49m\u001b[43m=\u001b[49m\u001b[43mmy_scheduler\u001b[49m\u001b[43m \u001b[49m\u001b[38;5;66;43;03m# Pass the instantiated scheduler\u001b[39;49;00m\n\u001b[32m     26\u001b[39m \u001b[43m)\u001b[49m\n\u001b[32m     27\u001b[39m trainer.loop()\n",
      "\u001b[36mFile \u001b[39m\u001b[32mc:\\Users\\tycoh\\Desktop\\MADS-ML-Tyco\\.venv\\Lib\\site-packages\\mltrainer\\trainer.py:55\u001b[39m, in \u001b[36mTrainer.__init__\u001b[39m\u001b[34m(self, model, settings, loss_fn, optimizer, traindataloader, validdataloader, scheduler, device)\u001b[39m\n\u001b[32m     52\u001b[39m \u001b[38;5;28;01mif\u001b[39;00m \u001b[38;5;28mself\u001b[39m.device:\n\u001b[32m     53\u001b[39m     \u001b[38;5;28mself\u001b[39m.model.to(\u001b[38;5;28mself\u001b[39m.device)\n\u001b[32m---> \u001b[39m\u001b[32m55\u001b[39m \u001b[38;5;28mself\u001b[39m.optimizer = \u001b[43moptimizer\u001b[49m\u001b[43m(\u001b[49m\u001b[43m  \u001b[49m\u001b[38;5;66;43;03m# type: ignore\u001b[39;49;00m\n\u001b[32m     56\u001b[39m \u001b[43m    \u001b[49m\u001b[43mmodel\u001b[49m\u001b[43m.\u001b[49m\u001b[43mparameters\u001b[49m\u001b[43m(\u001b[49m\u001b[43m)\u001b[49m\u001b[43m,\u001b[49m\u001b[43m \u001b[49m\u001b[43m*\u001b[49m\u001b[43m*\u001b[49m\u001b[43msettings\u001b[49m\u001b[43m.\u001b[49m\u001b[43moptimizer_kwargs\u001b[49m\n\u001b[32m     57\u001b[39m \u001b[43m\u001b[49m\u001b[43m)\u001b[49m\n\u001b[32m     58\u001b[39m \u001b[38;5;28mself\u001b[39m.last_epoch = \u001b[32m0\u001b[39m\n\u001b[32m     60\u001b[39m \u001b[38;5;28;01mif\u001b[39;00m scheduler:\n",
      "\u001b[31mTypeError\u001b[39m: 'Adam' object is not callable"
     ]
    }
   ],
   "source": [
    "model = DenseNeuralNetwork(num_classes=10, units1=64, units2=64, input_size=28*28)\n",
    "\n",
    "settings = TrainerSettings(\n",
    "    epochs=2,\n",
    "    metrics= [metrics.Accuracy()],\n",
    "    logdir=\"modellogs\",\n",
    "    train_steps= 50,\n",
    "    valid_steps= 50,\n",
    "    reporttypes=[ReportTypes.TENSORBOARD, ReportTypes.TOML],\n",
    ")\n",
    "\n",
    "trainer = Trainer(\n",
    "    model=model,\n",
    "    settings=settings,\n",
    "    loss_fn=loss_fn,\n",
    "    optimizer=torch.optim.Adam(model.parameters(),lr=0.01),\n",
    "    traindataloader=trainstreamer,\n",
    "    validdataloader=validstreamer,\n",
    "    scheduler=torch.optim.lr_scheduler.ReduceLROnPlateau\n",
    ")\n",
    "trainer.loop()"
   ]
  },
  {
   "cell_type": "markdown",
   "id": "b2de8f30",
   "metadata": {},
   "source": [
    "- change the depth of your model by adding a additional linear layer + activation function\n",
    "- Hypothesis: a deeper model will perform better, but will also take longer to train"
   ]
  },
  {
   "cell_type": "code",
   "execution_count": null,
   "id": "bd6eb810",
   "metadata": {},
   "outputs": [
    {
     "name": "stderr",
     "output_type": "stream",
     "text": [
      "\u001b[32m2025-10-04 17:31:18.615\u001b[0m | \u001b[1mINFO    \u001b[0m | \u001b[36mmltrainer.trainer\u001b[0m:\u001b[36mdir_add_timestamp\u001b[0m:\u001b[36m24\u001b[0m - \u001b[1mLogging to modellogs\\20251004-173118\u001b[0m\n",
      "\u001b[32m2025-10-04 17:31:18.619\u001b[0m | \u001b[1mINFO    \u001b[0m | \u001b[36mmltrainer.trainer\u001b[0m:\u001b[36m__init__\u001b[0m:\u001b[36m68\u001b[0m - \u001b[1mFound earlystop_kwargs in settings.Set to None if you dont want earlystopping.\u001b[0m\n",
      "100%|\u001b[38;2;30;71;6m██████████\u001b[0m| 400/400 [00:04<00:00, 80.03it/s]\n",
      "\u001b[32m2025-10-04 17:31:25.271\u001b[0m | \u001b[1mINFO    \u001b[0m | \u001b[36mmltrainer.trainer\u001b[0m:\u001b[36mreport\u001b[0m:\u001b[36m209\u001b[0m - \u001b[1mEpoch 0 train 0.7481 test 0.5534 metric ['0.8007']\u001b[0m\n",
      "100%|\u001b[38;2;30;71;6m██████████\u001b[0m| 400/400 [00:05<00:00, 72.71it/s]\n",
      "\u001b[32m2025-10-04 17:31:32.439\u001b[0m | \u001b[1mINFO    \u001b[0m | \u001b[36mmltrainer.trainer\u001b[0m:\u001b[36mreport\u001b[0m:\u001b[36m209\u001b[0m - \u001b[1mEpoch 1 train 0.4790 test 0.4985 metric ['0.8191']\u001b[0m\n",
      "100%|\u001b[38;2;30;71;6m██████████\u001b[0m| 400/400 [00:05<00:00, 73.81it/s]\n",
      "\u001b[32m2025-10-04 17:31:39.406\u001b[0m | \u001b[1mINFO    \u001b[0m | \u001b[36mmltrainer.trainer\u001b[0m:\u001b[36mreport\u001b[0m:\u001b[36m209\u001b[0m - \u001b[1mEpoch 2 train 0.4256 test 0.4302 metric ['0.8415']\u001b[0m\n",
      "100%|\u001b[38;2;30;71;6m██████████\u001b[0m| 400/400 [00:05<00:00, 72.07it/s]\n",
      "\u001b[32m2025-10-04 17:31:47.389\u001b[0m | \u001b[1mINFO    \u001b[0m | \u001b[36mmltrainer.trainer\u001b[0m:\u001b[36mreport\u001b[0m:\u001b[36m209\u001b[0m - \u001b[1mEpoch 3 train 0.3970 test 0.4167 metric ['0.8507']\u001b[0m\n",
      "100%|\u001b[38;2;30;71;6m██████████\u001b[0m| 400/400 [00:06<00:00, 57.44it/s]\n",
      "\u001b[32m2025-10-04 17:31:56.988\u001b[0m | \u001b[1mINFO    \u001b[0m | \u001b[36mmltrainer.trainer\u001b[0m:\u001b[36mreport\u001b[0m:\u001b[36m209\u001b[0m - \u001b[1mEpoch 4 train 0.3608 test 0.3936 metric ['0.8573']\u001b[0m\n",
      "100%|\u001b[38;2;30;71;6m██████████\u001b[0m| 5/5 [00:38<00:00,  7.67s/it]\n"
     ]
    }
   ],
   "source": [
    "class DeepDenseNeuralNetwork(nn.Module):\n",
    "    def __init__(self, num_classes, units1, units2, units3, units4, input_size):\n",
    "        super().__init__() # moet erbij zodat alles van de nn module wordt overgenomen\n",
    "        self.num_classes = num_classes\n",
    "        self.units1 = units1         \n",
    "        self.units2 = units2\n",
    "        self.units3 = units3\n",
    "        self.units4 = units4\n",
    "        self.input_size = input_size\n",
    "        self.flatten = nn.Flatten()\n",
    "\n",
    "        # ik kies hier voor een simpel model met 4 hidden layers\n",
    "        self.linear_relu_stack = nn.Sequential(\n",
    "            nn.Linear(self.input_size, self.units1),\n",
    "            nn.ReLU(),\n",
    "            nn.Linear(self.units1, self.units2),\n",
    "            nn.ReLU(),\n",
    "            nn.Linear(self.units2, self.units3),\n",
    "            nn.ReLU(),\n",
    "            nn.Linear(self.units3, self.units4),\n",
    "            nn.ReLU(),\n",
    "            nn.Linear(self.units4, self.num_classes)\n",
    "        )\n",
    "    \n",
    "    # forward maken we hier zodat we de volgorde van de bewerkingen kunnen bepalen, eerst flattenen zodat we de input in 1D krijgen en dus kunnen doorgeven aan de linear layers\n",
    "    def forward(self, x):\n",
    "        x = self.flatten(x)\n",
    "        logits = self.linear_relu_stack(x)\n",
    "        return logits\n",
    "    \n",
    "number_of_units = 128\n",
    "deep_model = DeepDenseNeuralNetwork(num_classes=10, units1=number_of_units, units2=number_of_units, units3=number_of_units, units4=number_of_units, input_size=28*28)\n",
    "\n",
    "settings = TrainerSettings(\n",
    "    epochs=5,\n",
    "    metrics= [metrics.Accuracy()],\n",
    "    logdir=\"modellogs\",\n",
    "    train_steps= 50,\n",
    "    valid_steps= 50,\n",
    "    reporttypes=[ReportTypes.TENSORBOARD, ReportTypes.TOML],\n",
    ")\n",
    "\n",
    "trainer = Trainer(\n",
    "    model=deep_model,\n",
    "    settings=settings,\n",
    "    loss_fn=loss_fn,\n",
    "    optimizer=torch.optim.Adam,\n",
    "    traindataloader=trainstreamer,\n",
    "    validdataloader=validstreamer,\n",
    "    scheduler=torch.optim.lr_scheduler.ReduceLROnPlateau\n",
    ")\n",
    "trainer.loop()"
   ]
  },
  {
   "cell_type": "markdown",
   "id": "45e8f6ca",
   "metadata": {},
   "source": [
    "Results: Neural network with 2 layers performs 0.79 and takes 3s and Neural network with 4 layers performs 0.78 and takes 3.9s"
   ]
  },
  {
   "cell_type": "markdown",
   "id": "8cb6020a",
   "metadata": {},
   "source": [
    "Conclusion: A deep network does not always perform better with more layers"
   ]
  },
  {
   "cell_type": "markdown",
   "id": "c5605811",
   "metadata": {},
   "source": [
    "- changing the batchsize to values between 4 and 128. Again, use factors of two for convenience.\n",
    "- Hypothesis: When the step size is large, this means the model has more changes to update its weights and therefore train faster."
   ]
  },
  {
   "cell_type": "code",
   "execution_count": 98,
   "id": "a51c763a",
   "metadata": {},
   "outputs": [
    {
     "name": "stderr",
     "output_type": "stream",
     "text": [
      "\u001b[32m2025-10-04 17:58:07.976\u001b[0m | \u001b[1mINFO    \u001b[0m | \u001b[36mmltrainer.trainer\u001b[0m:\u001b[36mdir_add_timestamp\u001b[0m:\u001b[36m24\u001b[0m - \u001b[1mLogging to modellogs\\20251004-175807\u001b[0m\n",
      "\u001b[32m2025-10-04 17:58:07.976\u001b[0m | \u001b[1mINFO    \u001b[0m | \u001b[36mmltrainer.trainer\u001b[0m:\u001b[36m__init__\u001b[0m:\u001b[36m68\u001b[0m - \u001b[1mFound earlystop_kwargs in settings.Set to None if you dont want earlystopping.\u001b[0m\n",
      "100%|\u001b[38;2;30;71;6m██████████\u001b[0m| 14/14 [00:00<00:00, 95.98it/s]\n",
      "\u001b[32m2025-10-04 17:58:08.152\u001b[0m | \u001b[1mINFO    \u001b[0m | \u001b[36mmltrainer.trainer\u001b[0m:\u001b[36mreport\u001b[0m:\u001b[36m209\u001b[0m - \u001b[1mEpoch 0 train 2.1694 test 1.9410 metric ['0.5156']\u001b[0m\n",
      "100%|\u001b[38;2;30;71;6m██████████\u001b[0m| 14/14 [00:00<00:00, 146.98it/s]\n",
      "\u001b[32m2025-10-04 17:58:08.265\u001b[0m | \u001b[1mINFO    \u001b[0m | \u001b[36mmltrainer.trainer\u001b[0m:\u001b[36mreport\u001b[0m:\u001b[36m209\u001b[0m - \u001b[1mEpoch 1 train 1.6675 test 1.3637 metric ['0.6016']\u001b[0m\n",
      "100%|\u001b[38;2;30;71;6m██████████\u001b[0m| 2/2 [00:00<00:00,  7.17it/s]\n"
     ]
    }
   ],
   "source": [
    "model = DenseNeuralNetwork(num_classes=10, units1=64, units2=64, input_size=28*28)\n",
    "\n",
    "settings = TrainerSettings(\n",
    "    epochs=2,\n",
    "    metrics= [metrics.Accuracy()],\n",
    "    logdir=\"modellogs\",\n",
    "    train_steps= len(train)//batchsize,\n",
    "    valid_steps= len(valid)//batchsize,\n",
    "    reporttypes=[ReportTypes.TENSORBOARD, ReportTypes.TOML],\n",
    ")\n",
    "\n",
    "trainer = Trainer(\n",
    "    model=model,\n",
    "    settings=settings,\n",
    "    loss_fn=loss_fn,\n",
    "    optimizer=torch.optim.Adam,\n",
    "    traindataloader=trainstreamer,\n",
    "    validdataloader=validstreamer,\n",
    "    scheduler=torch.optim.lr_scheduler.ReduceLROnPlateau\n",
    ")\n",
    "trainer.loop()"
   ]
  },
  {
   "cell_type": "markdown",
   "id": "a89e0bf9",
   "metadata": {},
   "source": [
    "Results: steps 4/accuracy 0.39/time 0.1s, steps 128/accuracy 0.77/time 2.7s, steps 512/accuracy 0.82/time 13.8s"
   ]
  },
  {
   "cell_type": "markdown",
   "id": "1805e4f1",
   "metadata": {},
   "source": [
    "Conclusion: It is true that the higher the steps the higher the performance because it sees more data, but also the higher the training time. It can be smart to keep the trainsteps equal to the length of the full dataset / nr of batches so that you won't train on more than 1x your dataset. Otherwise the setting epoch = 1 will be more than the actual 1."
   ]
  },
  {
   "cell_type": "markdown",
   "id": "d40a14b8",
   "metadata": {},
   "source": [
    "- changing the optimizer from SGD to one of the other available algoritms\n",
    "- Hypothesis: The model will perform worse because randomly choosing the gradient is a less smart approach than the Adam approach"
   ]
  },
  {
   "cell_type": "code",
   "execution_count": null,
   "id": "cb9b629b",
   "metadata": {},
   "outputs": [
    {
     "ename": "NameError",
     "evalue": "name 'params' is not defined",
     "output_type": "error",
     "traceback": [
      "\u001b[31m---------------------------------------------------------------------------\u001b[39m",
      "\u001b[31mNameError\u001b[39m                                 Traceback (most recent call last)",
      "\u001b[36mCell\u001b[39m\u001b[36m \u001b[39m\u001b[32mIn[104]\u001b[39m\u001b[32m, line 16\u001b[39m\n\u001b[32m      1\u001b[39m model = DenseNeuralNetwork(num_classes=\u001b[32m10\u001b[39m, units1=\u001b[32m64\u001b[39m, units2=\u001b[32m64\u001b[39m, input_size=\u001b[32m28\u001b[39m*\u001b[32m28\u001b[39m)\n\u001b[32m      3\u001b[39m settings = TrainerSettings(\n\u001b[32m      4\u001b[39m     epochs=\u001b[32m2\u001b[39m,\n\u001b[32m      5\u001b[39m     metrics= [metrics.Accuracy()],\n\u001b[32m   (...)\u001b[39m\u001b[32m      9\u001b[39m     reporttypes=[ReportTypes.TENSORBOARD, ReportTypes.TOML],\n\u001b[32m     10\u001b[39m )\n\u001b[32m     12\u001b[39m trainer = Trainer(\n\u001b[32m     13\u001b[39m     model=model,\n\u001b[32m     14\u001b[39m     settings=settings,\n\u001b[32m     15\u001b[39m     loss_fn=loss_fn,\n\u001b[32m---> \u001b[39m\u001b[32m16\u001b[39m     optimizer=torch.optim.SGD(\u001b[43mparams\u001b[49m, lr=\u001b[32m0.01\u001b[39m),\n\u001b[32m     17\u001b[39m     traindataloader=trainstreamer,\n\u001b[32m     18\u001b[39m     validdataloader=validstreamer,\n\u001b[32m     19\u001b[39m     scheduler=torch.optim.lr_scheduler.ReduceLROnPlateau\n\u001b[32m     20\u001b[39m )\n\u001b[32m     21\u001b[39m trainer.loop()\n",
      "\u001b[31mNameError\u001b[39m: name 'params' is not defined"
     ]
    }
   ],
   "source": [
    "model = DenseNeuralNetwork(num_classes=10, units1=64, units2=64, input_size=28*28)\n",
    "\n",
    "settings = TrainerSettings(\n",
    "    epochs=2,\n",
    "    metrics= [metrics.Accuracy()],\n",
    "    logdir=\"modellogs\",\n",
    "    train_steps= len(train)//batchsize,\n",
    "    valid_steps= len(valid)//batchsize,\n",
    "    reporttypes=[ReportTypes.TENSORBOARD, ReportTypes.TOML],\n",
    ")\n",
    "\n",
    "trainer = Trainer(\n",
    "    model=model,\n",
    "    settings=settings,\n",
    "    loss_fn=loss_fn,\n",
    "    optimizer=torch.optim.SGD,\n",
    "    traindataloader=trainstreamer,\n",
    "    validdataloader=validstreamer,\n",
    "    scheduler=torch.optim.lr_scheduler.ReduceLROnPlateau\n",
    ")\n",
    "trainer.loop()"
   ]
  },
  {
   "cell_type": "markdown",
   "id": "4692a142",
   "metadata": {},
   "source": [
    "Results: SGD gives accuracy 0.12/Adadelta gives acc 0.17/Adafactor gives acc 0.09"
   ]
  },
  {
   "cell_type": "markdown",
   "id": "e6460d51",
   "metadata": {},
   "source": [
    "Conclusion: Choosing three other optimizers give very bad results. Mostly because the learning rate in adam is set adaptive - but with the others it should be set manually."
   ]
  }
 ],
 "metadata": {
  "kernelspec": {
   "display_name": "portfolio-example",
   "language": "python",
   "name": "python3"
  },
  "language_info": {
   "codemirror_mode": {
    "name": "ipython",
    "version": 3
   },
   "file_extension": ".py",
   "mimetype": "text/x-python",
   "name": "python",
   "nbconvert_exporter": "python",
   "pygments_lexer": "ipython3",
   "version": "3.12.11"
  }
 },
 "nbformat": 4,
 "nbformat_minor": 5
}
